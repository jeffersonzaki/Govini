{
 "cells": [
  {
   "cell_type": "markdown",
   "metadata": {},
   "source": [
    "# Problem \n",
    "\n",
    "We'd like you to work on the following problem:\n",
    "\n",
    "One of the problems that we face at Govini is mapping entities between disparate data sets. We collect data from a variety of different sources, and knowing that a certain entity is the same from one data set to another is essential.\n",
    "\n",
    "For example, there may be a company named \"FOO\" in one data set, and a company named \"foo 123\" in another. We need to be able to determine with a high enough confidence that those are the same entity. However, a majority of the time, the data does not share a unique key. \n",
    "\n",
    "Using the data available, as well as relationships and metadata, we map these together with a high precision. We need you to devise an algorithm that could automatically tie related entities together. The output should have the matches as well as a confidence score for the match.\n",
    "\n",
    "We are giving you two sample data sets, and it'll be up to you to generate a mapping between the two. In most cases, the mapping should be one to one. An ID from data set A should map to an ID in data set B. \n",
    "\n",
    "The sample data sets are available at the following link:\n",
    "https://s3.amazonaws.com/BUCKET_FOR_FILE_TRANSFER/interview.tar.xz\n",
    "\n",
    "The archive contains five files, described below:\n",
    "\n",
    "Procurement Data:\n",
    "\n",
    "data/mdl__dim_vendor.csv - Company Information\n",
    "data/mdl__dim_geo.csv - Location Information\n",
    "\n",
    "mdl__dim_vendor.csv references mdl__dim_geo.csv via the column geo_id.\n",
    "\n",
    "Finance Data:\n",
    "\n",
    "data/factset__ent_entity_coverage.csv - Company Information\n",
    "data/factset__ent_entity_structure.csv - Company Hierarchy\n",
    "data/factset__ent_entity_address.csv - Location Information\n",
    "\n",
    "All of these files are tied together using factset_entity_id.\n",
    "\n",
    "The end goal of this exercise is to explore the data, and map mdl__dim_vendor.vendor_id to corresponding factset__ent_entity_coverage.factset_entity_id. Ideally, a file containing three columns: vendor_id, factset_entity_id, confidence_of_match. Please make sure there is a README file that explains how your algorithm works."
   ]
  },
  {
   "cell_type": "markdown",
   "metadata": {},
   "source": [
    "# Simplified Notes\n",
    "\n",
    "- Problem: Mapping entities between disparate datasets. Collecting data from a veriety of sources, and knowing that a certain entity is the same from one dataset to another is essential.\n",
    "    - Example: For example, there may be a company named \"FOO\" in one data set, and a company named \"foo 123\" in another. We need to be able to determine with a high enough confidence that those are the same entity. However, a majority of the time, the data does not share a unique key.\n",
    "    \n",
    "- What Needs To Happen: Need to create an algorithm that could automatically tie related entities together. The output should have the matches as well as a confidence score for the match.\n",
    "\n",
    "- What I'm Given:\n",
    "    - Two sample datasets, and it'll be up to you to generate a mapping between the two. In most cases, the mapping should be one to one. An ID from data set A should map to an ID in data set B.\n",
    "    \n",
    "- Files Described Below:\n",
    "    - Procurement Data:\n",
    "\n",
    "        - data/mdl__dim_vendor.csv - Company Information\n",
    "        - data/mdl__dim_geo.csv - Location Information\n",
    "        - mdl__dim_vendor.csv references mdl__dim_geo.csv via the column geo_id.\n",
    "\n",
    "    - Finance Data:\n",
    "\n",
    "        - data/factset__ent_entity_coverage.csv - Company Information\n",
    "        - data/factset__ent_entity_structure.csv - Company Hierarchy\n",
    "        - data/factset__ent_entity_address.csv - Location Information\n",
    "\n",
    "**All of these files are tied together using factset_entity_id.**\n",
    "\n",
    "## End Goal\n",
    "- Explore the data\n",
    "- Map **mdl__dim_vendor.vendor_id** to corresponding **factset__ent_entity_coverage.factset_entity_id**\n",
    "- A file containing three columns: vendor_id, factset_entity_id, confidence_of_match\n",
    "- README file that explains how your algorithm works\n",
    "\n",
    "### This seems like an NLP problem"
   ]
  },
  {
   "cell_type": "markdown",
   "metadata": {},
   "source": [
    "# EDA\n",
    "- Looking into the data to gain more information"
   ]
  },
  {
   "cell_type": "code",
   "execution_count": 1,
   "metadata": {},
   "outputs": [],
   "source": [
    "# Importing useful libraries\n",
    "import pandas as pd\n",
    "import numpy as np"
   ]
  },
  {
   "cell_type": "code",
   "execution_count": 2,
   "metadata": {},
   "outputs": [
    {
     "name": "stderr",
     "output_type": "stream",
     "text": [
      "/Library/Frameworks/Python.framework/Versions/3.8/lib/python3.8/site-packages/IPython/core/interactiveshell.py:3050: DtypeWarning: Columns (11,15) have mixed types. Specify dtype option on import or set low_memory=False.\n",
      "  has_raised = await self.run_ast_nodes(code_ast.body, cell_name,\n"
     ]
    }
   ],
   "source": [
    "# All given datasets\n",
    "a_company_csv = pd.read_csv(\"Data/a__company.csv\")\n",
    "a_geo_csv = pd.read_csv(\"Data/a__geo.csv\")\n",
    "b_address_csv = pd.read_csv(\"Data/b__address.csv\")\n",
    "b_company_csv = pd.read_csv(\"Data/b__company.csv\")\n",
    "b_hierarchy = pd.read_csv(\"Data/b__hierarchy.csv\")"
   ]
  },
  {
   "cell_type": "markdown",
   "metadata": {},
   "source": [
    "## a__company.csv"
   ]
  },
  {
   "cell_type": "code",
   "execution_count": 3,
   "metadata": {},
   "outputs": [
    {
     "data": {
      "text/html": [
       "<div>\n",
       "<style scoped>\n",
       "    .dataframe tbody tr th:only-of-type {\n",
       "        vertical-align: middle;\n",
       "    }\n",
       "\n",
       "    .dataframe tbody tr th {\n",
       "        vertical-align: top;\n",
       "    }\n",
       "\n",
       "    .dataframe thead th {\n",
       "        text-align: right;\n",
       "    }\n",
       "</style>\n",
       "<table border=\"1\" class=\"dataframe\">\n",
       "  <thead>\n",
       "    <tr style=\"text-align: right;\">\n",
       "      <th></th>\n",
       "      <th>vendor_id</th>\n",
       "      <th>parent_vendor_id</th>\n",
       "      <th>top_vendor_id</th>\n",
       "      <th>cnt_children</th>\n",
       "      <th>orgtype_id</th>\n",
       "      <th>geo_id</th>\n",
       "      <th>name</th>\n",
       "      <th>email</th>\n",
       "      <th>phone</th>\n",
       "      <th>fax</th>\n",
       "      <th>...</th>\n",
       "      <th>address1</th>\n",
       "      <th>address2</th>\n",
       "      <th>country</th>\n",
       "      <th>zipcode</th>\n",
       "      <th>parentdunsnumber</th>\n",
       "      <th>score</th>\n",
       "      <th>cnt_opp</th>\n",
       "      <th>bucket_id</th>\n",
       "      <th>load_date</th>\n",
       "      <th>lvl</th>\n",
       "    </tr>\n",
       "  </thead>\n",
       "  <tbody>\n",
       "    <tr>\n",
       "      <th>0</th>\n",
       "      <td>26303872</td>\n",
       "      <td>NaN</td>\n",
       "      <td>26303872.0</td>\n",
       "      <td>0</td>\n",
       "      <td>0</td>\n",
       "      <td>100239</td>\n",
       "      <td>LHASA, LLC [DUNS</td>\n",
       "      <td>NaN</td>\n",
       "      <td>NaN</td>\n",
       "      <td>NaN</td>\n",
       "      <td>...</td>\n",
       "      <td>NaN</td>\n",
       "      <td>NaN</td>\n",
       "      <td>US</td>\n",
       "      <td>0</td>\n",
       "      <td>NaN</td>\n",
       "      <td>0</td>\n",
       "      <td>0</td>\n",
       "      <td>16</td>\n",
       "      <td>2018-05-26</td>\n",
       "      <td>0.0</td>\n",
       "    </tr>\n",
       "    <tr>\n",
       "      <th>1</th>\n",
       "      <td>144388388</td>\n",
       "      <td>52137010.0</td>\n",
       "      <td>NaN</td>\n",
       "      <td>0</td>\n",
       "      <td>0</td>\n",
       "      <td>52450</td>\n",
       "      <td>LAKE HAVASU, CITY OF</td>\n",
       "      <td>NaN</td>\n",
       "      <td>NaN</td>\n",
       "      <td>NaN</td>\n",
       "      <td>...</td>\n",
       "      <td>2330 MCCULLOCH BLVD N</td>\n",
       "      <td>NaN</td>\n",
       "      <td>US</td>\n",
       "      <td>86403</td>\n",
       "      <td>NaN</td>\n",
       "      <td>0</td>\n",
       "      <td>0</td>\n",
       "      <td>70</td>\n",
       "      <td>2018-05-26</td>\n",
       "      <td>NaN</td>\n",
       "    </tr>\n",
       "    <tr>\n",
       "      <th>2</th>\n",
       "      <td>143446948</td>\n",
       "      <td>NaN</td>\n",
       "      <td>143446948.0</td>\n",
       "      <td>0</td>\n",
       "      <td>0</td>\n",
       "      <td>100239</td>\n",
       "      <td>LONG LEWIS FORD</td>\n",
       "      <td>NaN</td>\n",
       "      <td>NaN</td>\n",
       "      <td>NaN</td>\n",
       "      <td>...</td>\n",
       "      <td>NaN</td>\n",
       "      <td>NaN</td>\n",
       "      <td>US</td>\n",
       "      <td>0</td>\n",
       "      <td>NaN</td>\n",
       "      <td>0</td>\n",
       "      <td>0</td>\n",
       "      <td>87</td>\n",
       "      <td>2018-05-26</td>\n",
       "      <td>0.0</td>\n",
       "    </tr>\n",
       "    <tr>\n",
       "      <th>3</th>\n",
       "      <td>21723402</td>\n",
       "      <td>NaN</td>\n",
       "      <td>21723402.0</td>\n",
       "      <td>0</td>\n",
       "      <td>0</td>\n",
       "      <td>49677</td>\n",
       "      <td>Lara Jean OConnor</td>\n",
       "      <td>NaN</td>\n",
       "      <td>NaN</td>\n",
       "      <td>NaN</td>\n",
       "      <td>...</td>\n",
       "      <td>6242 Kilmer Loop #204 Arvada</td>\n",
       "      <td>NaN</td>\n",
       "      <td>US</td>\n",
       "      <td>80403</td>\n",
       "      <td>NaN</td>\n",
       "      <td>0</td>\n",
       "      <td>0</td>\n",
       "      <td>9</td>\n",
       "      <td>2018-05-26</td>\n",
       "      <td>0.0</td>\n",
       "    </tr>\n",
       "    <tr>\n",
       "      <th>4</th>\n",
       "      <td>151786331</td>\n",
       "      <td>NaN</td>\n",
       "      <td>151786331.0</td>\n",
       "      <td>0</td>\n",
       "      <td>0</td>\n",
       "      <td>100239</td>\n",
       "      <td>LeChris</td>\n",
       "      <td>NaN</td>\n",
       "      <td>NaN</td>\n",
       "      <td>NaN</td>\n",
       "      <td>...</td>\n",
       "      <td>NaN</td>\n",
       "      <td>NaN</td>\n",
       "      <td>US</td>\n",
       "      <td>0</td>\n",
       "      <td>NaN</td>\n",
       "      <td>0</td>\n",
       "      <td>0</td>\n",
       "      <td>84</td>\n",
       "      <td>2018-05-26</td>\n",
       "      <td>0.0</td>\n",
       "    </tr>\n",
       "  </tbody>\n",
       "</table>\n",
       "<p>5 rows × 23 columns</p>\n",
       "</div>"
      ],
      "text/plain": [
       "   vendor_id  parent_vendor_id  top_vendor_id  cnt_children  orgtype_id  \\\n",
       "0   26303872               NaN     26303872.0             0           0   \n",
       "1  144388388        52137010.0            NaN             0           0   \n",
       "2  143446948               NaN    143446948.0             0           0   \n",
       "3   21723402               NaN     21723402.0             0           0   \n",
       "4  151786331               NaN    151786331.0             0           0   \n",
       "\n",
       "   geo_id                  name email phone  fax  ...  \\\n",
       "0  100239      LHASA, LLC [DUNS   NaN   NaN  NaN  ...   \n",
       "1   52450  LAKE HAVASU, CITY OF   NaN   NaN  NaN  ...   \n",
       "2  100239       LONG LEWIS FORD   NaN   NaN  NaN  ...   \n",
       "3   49677     Lara Jean OConnor   NaN   NaN  NaN  ...   \n",
       "4  100239               LeChris   NaN   NaN  NaN  ...   \n",
       "\n",
       "                       address1 address2 country zipcode parentdunsnumber  \\\n",
       "0                           NaN      NaN      US       0              NaN   \n",
       "1         2330 MCCULLOCH BLVD N      NaN      US   86403              NaN   \n",
       "2                           NaN      NaN      US       0              NaN   \n",
       "3  6242 Kilmer Loop #204 Arvada      NaN      US   80403              NaN   \n",
       "4                           NaN      NaN      US       0              NaN   \n",
       "\n",
       "  score cnt_opp  bucket_id   load_date  lvl  \n",
       "0     0       0         16  2018-05-26  0.0  \n",
       "1     0       0         70  2018-05-26  NaN  \n",
       "2     0       0         87  2018-05-26  0.0  \n",
       "3     0       0          9  2018-05-26  0.0  \n",
       "4     0       0         84  2018-05-26  0.0  \n",
       "\n",
       "[5 rows x 23 columns]"
      ]
     },
     "execution_count": 3,
     "metadata": {},
     "output_type": "execute_result"
    }
   ],
   "source": [
    "a_company_csv.head()"
   ]
  },
  {
   "cell_type": "code",
   "execution_count": 4,
   "metadata": {},
   "outputs": [
    {
     "data": {
      "text/plain": [
       "(76344, 23)"
      ]
     },
     "execution_count": 4,
     "metadata": {},
     "output_type": "execute_result"
    }
   ],
   "source": [
    "a_company_csv.shape"
   ]
  },
  {
   "cell_type": "code",
   "execution_count": 5,
   "metadata": {},
   "outputs": [
    {
     "data": {
      "text/plain": [
       "Index(['vendor_id', 'parent_vendor_id', 'top_vendor_id', 'cnt_children',\n",
       "       'orgtype_id', 'geo_id', 'name', 'email', 'phone', 'fax', 'dunsnumber',\n",
       "       'websiteurl', 'address', 'address1', 'address2', 'country', 'zipcode',\n",
       "       'parentdunsnumber', 'score', 'cnt_opp', 'bucket_id', 'load_date',\n",
       "       'lvl'],\n",
       "      dtype='object')"
      ]
     },
     "execution_count": 5,
     "metadata": {},
     "output_type": "execute_result"
    }
   ],
   "source": [
    "a_company_csv.columns"
   ]
  },
  {
   "cell_type": "code",
   "execution_count": 6,
   "metadata": {},
   "outputs": [
    {
     "data": {
      "text/plain": [
       "557776"
      ]
     },
     "execution_count": 6,
     "metadata": {},
     "output_type": "execute_result"
    }
   ],
   "source": [
    "a_company_csv.isna().sum().sum()  # 557,776"
   ]
  },
  {
   "cell_type": "code",
   "execution_count": 7,
   "metadata": {},
   "outputs": [
    {
     "name": "stdout",
     "output_type": "stream",
     "text": [
      "<class 'pandas.core.frame.DataFrame'>\n",
      "RangeIndex: 76344 entries, 0 to 76343\n",
      "Data columns (total 23 columns):\n",
      "vendor_id           76344 non-null int64\n",
      "parent_vendor_id    7957 non-null float64\n",
      "top_vendor_id       76312 non-null float64\n",
      "cnt_children        76344 non-null int64\n",
      "orgtype_id          76344 non-null int64\n",
      "geo_id              76344 non-null int64\n",
      "name                76344 non-null object\n",
      "email               415 non-null object\n",
      "phone               6655 non-null object\n",
      "fax                 0 non-null float64\n",
      "dunsnumber          27685 non-null float64\n",
      "websiteurl          6622 non-null object\n",
      "address             76344 non-null object\n",
      "address1            53217 non-null object\n",
      "address2            2071 non-null object\n",
      "country             76336 non-null object\n",
      "zipcode             75523 non-null object\n",
      "parentdunsnumber    25591 non-null float64\n",
      "score               76344 non-null int64\n",
      "cnt_opp             76344 non-null int64\n",
      "bucket_id           76344 non-null int64\n",
      "load_date           76344 non-null object\n",
      "lvl                 76312 non-null float64\n",
      "dtypes: float64(6), int64(7), object(10)\n",
      "memory usage: 13.4+ MB\n"
     ]
    }
   ],
   "source": [
    "a_company_csv.info()"
   ]
  },
  {
   "cell_type": "markdown",
   "metadata": {},
   "source": [
    "## Graphing Missing Values"
   ]
  },
  {
   "cell_type": "code",
   "execution_count": 8,
   "metadata": {},
   "outputs": [],
   "source": [
    "import matplotlib.pyplot as plt"
   ]
  },
  {
   "cell_type": "code",
   "execution_count": 9,
   "metadata": {},
   "outputs": [
    {
     "data": {
      "image/png": "[encoded data removed]",
      "text/plain": [
       "<Figure size 1080x360 with 1 Axes>"
      ]
     },
     "metadata": {
      "needs_background": "light"
     },
     "output_type": "display_data"
    }
   ],
   "source": [
    "# Creating a bar plot\n",
    "\n",
    "fig, ax = plt.subplots(figsize=(15, 5))\n",
    "\n",
    "x = a_company_csv.isna().sum().index  # Retrieving column name with missing values\n",
    "y = a_company_csv.isna().sum()  # Number of values missing\n",
    "ax.bar(x=x, height=y)\n",
    "ax.set_xticklabels(x, rotation = 45)\n",
    "plt.tight_layout();"
   ]
  },
  {
   "cell_type": "markdown",
   "metadata": {},
   "source": [
    "## a__geo.csv"
   ]
  },
  {
   "cell_type": "code",
   "execution_count": 10,
   "metadata": {},
   "outputs": [
    {
     "data": {
      "text/html": [
       "<div>\n",
       "<style scoped>\n",
       "    .dataframe tbody tr th:only-of-type {\n",
       "        vertical-align: middle;\n",
       "    }\n",
       "\n",
       "    .dataframe tbody tr th {\n",
       "        vertical-align: top;\n",
       "    }\n",
       "\n",
       "    .dataframe thead th {\n",
       "        text-align: right;\n",
       "    }\n",
       "</style>\n",
       "<table border=\"1\" class=\"dataframe\">\n",
       "  <thead>\n",
       "    <tr style=\"text-align: right;\">\n",
       "      <th></th>\n",
       "      <th>geo_id</th>\n",
       "      <th>zipcode</th>\n",
       "      <th>is_primary</th>\n",
       "      <th>latitude</th>\n",
       "      <th>longitude</th>\n",
       "      <th>elevation</th>\n",
       "      <th>state</th>\n",
       "      <th>state_full_name</th>\n",
       "      <th>area_code</th>\n",
       "      <th>city</th>\n",
       "      <th>...</th>\n",
       "      <th>state_fips</th>\n",
       "      <th>timezone</th>\n",
       "      <th>daylight_saving</th>\n",
       "      <th>region</th>\n",
       "      <th>division</th>\n",
       "      <th>congress_district</th>\n",
       "      <th>congress_land_area</th>\n",
       "      <th>country</th>\n",
       "      <th>continent</th>\n",
       "      <th>country_iso2</th>\n",
       "    </tr>\n",
       "  </thead>\n",
       "  <tbody>\n",
       "    <tr>\n",
       "      <th>0</th>\n",
       "      <td>8278</td>\n",
       "      <td>14467</td>\n",
       "      <td>t</td>\n",
       "      <td>43.043294</td>\n",
       "      <td>-77.614181</td>\n",
       "      <td>513.0</td>\n",
       "      <td>NY</td>\n",
       "      <td>New York</td>\n",
       "      <td>585</td>\n",
       "      <td>HENRIETTA</td>\n",
       "      <td>...</td>\n",
       "      <td>36</td>\n",
       "      <td>5.0</td>\n",
       "      <td>Y</td>\n",
       "      <td>Northeast</td>\n",
       "      <td>Middle Atlantic</td>\n",
       "      <td>25|27</td>\n",
       "      <td>510.19|3973.13</td>\n",
       "      <td>USA</td>\n",
       "      <td>North America</td>\n",
       "      <td>US</td>\n",
       "    </tr>\n",
       "    <tr>\n",
       "      <th>1</th>\n",
       "      <td>3430</td>\n",
       "      <td>6258</td>\n",
       "      <td>t</td>\n",
       "      <td>41.8975</td>\n",
       "      <td>-71.9631</td>\n",
       "      <td>287.0</td>\n",
       "      <td>CT</td>\n",
       "      <td>Connecticut</td>\n",
       "      <td>860</td>\n",
       "      <td>POMFRET</td>\n",
       "      <td>...</td>\n",
       "      <td>09</td>\n",
       "      <td>5.0</td>\n",
       "      <td>Y</td>\n",
       "      <td>Northeast</td>\n",
       "      <td>New England</td>\n",
       "      <td>02</td>\n",
       "      <td>1987.68</td>\n",
       "      <td>USA</td>\n",
       "      <td>North America</td>\n",
       "      <td>US</td>\n",
       "    </tr>\n",
       "    <tr>\n",
       "      <th>2</th>\n",
       "      <td>48308</td>\n",
       "      <td>78234</td>\n",
       "      <td>t</td>\n",
       "      <td>29.462264</td>\n",
       "      <td>-98.4414</td>\n",
       "      <td>675.0</td>\n",
       "      <td>TX</td>\n",
       "      <td>Texas</td>\n",
       "      <td>210</td>\n",
       "      <td>SAN ANTONIO</td>\n",
       "      <td>...</td>\n",
       "      <td>48</td>\n",
       "      <td>6.0</td>\n",
       "      <td>Y</td>\n",
       "      <td>South</td>\n",
       "      <td>West South Central</td>\n",
       "      <td>21</td>\n",
       "      <td>5920.89</td>\n",
       "      <td>USA</td>\n",
       "      <td>North America</td>\n",
       "      <td>US</td>\n",
       "    </tr>\n",
       "    <tr>\n",
       "      <th>3</th>\n",
       "      <td>382713</td>\n",
       "      <td>E2K1K7</td>\n",
       "      <td>t</td>\n",
       "      <td>45.276163</td>\n",
       "      <td>-66.080195</td>\n",
       "      <td>57.0</td>\n",
       "      <td>New Brunswick / Nouveau-Brunswick</td>\n",
       "      <td>New Brunswick / Nouveau-Brunswick</td>\n",
       "      <td>CA-NB</td>\n",
       "      <td>Saint John</td>\n",
       "      <td>...</td>\n",
       "      <td>CA04</td>\n",
       "      <td>NaN</td>\n",
       "      <td>-03:00</td>\n",
       "      <td>NaN</td>\n",
       "      <td>NaN</td>\n",
       "      <td>NaN</td>\n",
       "      <td>NaN</td>\n",
       "      <td>CAN</td>\n",
       "      <td>North America</td>\n",
       "      <td>CA</td>\n",
       "    </tr>\n",
       "    <tr>\n",
       "      <th>4</th>\n",
       "      <td>8165</td>\n",
       "      <td>14213</td>\n",
       "      <td>t</td>\n",
       "      <td>42.916747</td>\n",
       "      <td>-78.892782</td>\n",
       "      <td>583.0</td>\n",
       "      <td>NY</td>\n",
       "      <td>New York</td>\n",
       "      <td>716</td>\n",
       "      <td>BUFFALO</td>\n",
       "      <td>...</td>\n",
       "      <td>36</td>\n",
       "      <td>5.0</td>\n",
       "      <td>Y</td>\n",
       "      <td>Northeast</td>\n",
       "      <td>Middle Atlantic</td>\n",
       "      <td>26</td>\n",
       "      <td>219.13</td>\n",
       "      <td>USA</td>\n",
       "      <td>North America</td>\n",
       "      <td>US</td>\n",
       "    </tr>\n",
       "  </tbody>\n",
       "</table>\n",
       "<p>5 rows × 23 columns</p>\n",
       "</div>"
      ],
      "text/plain": [
       "   geo_id zipcode is_primary   latitude   longitude  elevation  \\\n",
       "0    8278   14467          t  43.043294  -77.614181      513.0   \n",
       "1    3430    6258          t    41.8975    -71.9631      287.0   \n",
       "2   48308   78234          t  29.462264    -98.4414      675.0   \n",
       "3  382713  E2K1K7          t  45.276163  -66.080195       57.0   \n",
       "4    8165   14213          t  42.916747  -78.892782      583.0   \n",
       "\n",
       "                               state                    state_full_name  \\\n",
       "0                                 NY                           New York   \n",
       "1                                 CT                        Connecticut   \n",
       "2                                 TX                              Texas   \n",
       "3  New Brunswick / Nouveau-Brunswick  New Brunswick / Nouveau-Brunswick   \n",
       "4                                 NY                           New York   \n",
       "\n",
       "  area_code         city  ... state_fips timezone daylight_saving     region  \\\n",
       "0       585    HENRIETTA  ...         36      5.0               Y  Northeast   \n",
       "1       860      POMFRET  ...         09      5.0               Y  Northeast   \n",
       "2       210  SAN ANTONIO  ...         48      6.0               Y      South   \n",
       "3     CA-NB   Saint John  ...       CA04      NaN          -03:00        NaN   \n",
       "4       716      BUFFALO  ...         36      5.0               Y  Northeast   \n",
       "\n",
       "             division congress_district congress_land_area country  \\\n",
       "0     Middle Atlantic             25|27     510.19|3973.13     USA   \n",
       "1         New England                02            1987.68     USA   \n",
       "2  West South Central                21            5920.89     USA   \n",
       "3                 NaN               NaN                NaN     CAN   \n",
       "4     Middle Atlantic                26             219.13     USA   \n",
       "\n",
       "       continent country_iso2  \n",
       "0  North America           US  \n",
       "1  North America           US  \n",
       "2  North America           US  \n",
       "3  North America           CA  \n",
       "4  North America           US  \n",
       "\n",
       "[5 rows x 23 columns]"
      ]
     },
     "execution_count": 10,
     "metadata": {},
     "output_type": "execute_result"
    }
   ],
   "source": [
    "a_geo_csv.head()"
   ]
  },
  {
   "cell_type": "code",
   "execution_count": 11,
   "metadata": {},
   "outputs": [
    {
     "data": {
      "text/plain": [
       "(14480, 23)"
      ]
     },
     "execution_count": 11,
     "metadata": {},
     "output_type": "execute_result"
    }
   ],
   "source": [
    "a_geo_csv.shape"
   ]
  },
  {
   "cell_type": "code",
   "execution_count": 12,
   "metadata": {},
   "outputs": [
    {
     "data": {
      "text/plain": [
       "Index(['geo_id', 'zipcode', 'is_primary', 'latitude', 'longitude', 'elevation',\n",
       "       'state', 'state_full_name', 'area_code', 'city', 'city_display',\n",
       "       'county', 'county_fips', 'state_fips', 'timezone', 'daylight_saving',\n",
       "       'region', 'division', 'congress_district', 'congress_land_area',\n",
       "       'country', 'continent', 'country_iso2'],\n",
       "      dtype='object')"
      ]
     },
     "execution_count": 12,
     "metadata": {},
     "output_type": "execute_result"
    }
   ],
   "source": [
    "a_geo_csv.columns"
   ]
  },
  {
   "cell_type": "code",
   "execution_count": 13,
   "metadata": {},
   "outputs": [
    {
     "data": {
      "text/plain": [
       "12934"
      ]
     },
     "execution_count": 13,
     "metadata": {},
     "output_type": "execute_result"
    }
   ],
   "source": [
    "a_geo_csv.isna().sum().sum() # 12,934"
   ]
  },
  {
   "cell_type": "markdown",
   "metadata": {},
   "source": [
    "## Graphing Missing Values"
   ]
  },
  {
   "cell_type": "code",
   "execution_count": 14,
   "metadata": {},
   "outputs": [
    {
     "data": {
      "image/png": "[encoded data removed]",
      "text/plain": [
       "<Figure size 1080x360 with 1 Axes>"
      ]
     },
     "metadata": {
      "needs_background": "light"
     },
     "output_type": "display_data"
    }
   ],
   "source": [
    "# Creating a bar plot\n",
    "\n",
    "fig, ax = plt.subplots(figsize=(15, 5))\n",
    "\n",
    "x = a_geo_csv.isna().sum().index  # Retrieving column name with missing values\n",
    "y = a_geo_csv.isna().sum()  # Number of values missing\n",
    "ax.bar(x=x, height=y)\n",
    "ax.set_xticklabels(x, rotation = 45)\n",
    "plt.tight_layout();"
   ]
  },
  {
   "cell_type": "markdown",
   "metadata": {},
   "source": [
    "## b__address.csv "
   ]
  },
  {
   "cell_type": "code",
   "execution_count": 15,
   "metadata": {},
   "outputs": [
    {
     "data": {
      "text/html": [
       "<div>\n",
       "<style scoped>\n",
       "    .dataframe tbody tr th:only-of-type {\n",
       "        vertical-align: middle;\n",
       "    }\n",
       "\n",
       "    .dataframe tbody tr th {\n",
       "        vertical-align: top;\n",
       "    }\n",
       "\n",
       "    .dataframe thead th {\n",
       "        text-align: right;\n",
       "    }\n",
       "</style>\n",
       "<table border=\"1\" class=\"dataframe\">\n",
       "  <thead>\n",
       "    <tr style=\"text-align: right;\">\n",
       "      <th></th>\n",
       "      <th>address_id</th>\n",
       "      <th>b_entity_id</th>\n",
       "      <th>location_city</th>\n",
       "      <th>state_province</th>\n",
       "      <th>location_postal_code</th>\n",
       "      <th>city_state_zip</th>\n",
       "      <th>location_street1</th>\n",
       "      <th>location_street2</th>\n",
       "      <th>location_street3</th>\n",
       "      <th>iso_country</th>\n",
       "      <th>tele_country</th>\n",
       "      <th>tele_area</th>\n",
       "      <th>tele</th>\n",
       "      <th>tele_full</th>\n",
       "      <th>fax_country</th>\n",
       "      <th>fax_area</th>\n",
       "      <th>fax</th>\n",
       "      <th>fax_full</th>\n",
       "      <th>hq</th>\n",
       "    </tr>\n",
       "  </thead>\n",
       "  <tbody>\n",
       "    <tr>\n",
       "      <th>0</th>\n",
       "      <td>1000007</td>\n",
       "      <td>0BGRNX-E</td>\n",
       "      <td>Arnhem</td>\n",
       "      <td>GE</td>\n",
       "      <td>6827</td>\n",
       "      <td>Arnhem, Gelderland 6827</td>\n",
       "      <td>P. Calandweg 54</td>\n",
       "      <td>NaN</td>\n",
       "      <td>NaN</td>\n",
       "      <td>NL</td>\n",
       "      <td>31.0</td>\n",
       "      <td>26</td>\n",
       "      <td>361.16.11</td>\n",
       "      <td>31.26.361.16.11</td>\n",
       "      <td>31.0</td>\n",
       "      <td>26</td>\n",
       "      <td>362.18.91</td>\n",
       "      <td>31.26.362.18.91</td>\n",
       "      <td>1</td>\n",
       "    </tr>\n",
       "    <tr>\n",
       "      <th>1</th>\n",
       "      <td>1000203</td>\n",
       "      <td>093RN5-E</td>\n",
       "      <td>NaN</td>\n",
       "      <td>NaN</td>\n",
       "      <td>NaN</td>\n",
       "      <td>NaN</td>\n",
       "      <td>NaN</td>\n",
       "      <td>NaN</td>\n",
       "      <td>NaN</td>\n",
       "      <td>SE</td>\n",
       "      <td>46.0</td>\n",
       "      <td>NaN</td>\n",
       "      <td>NaN</td>\n",
       "      <td>NaN</td>\n",
       "      <td>46.0</td>\n",
       "      <td>NaN</td>\n",
       "      <td>NaN</td>\n",
       "      <td>NaN</td>\n",
       "      <td>1</td>\n",
       "    </tr>\n",
       "    <tr>\n",
       "      <th>2</th>\n",
       "      <td>100029</td>\n",
       "      <td>05PH68-E</td>\n",
       "      <td>Great Milton</td>\n",
       "      <td>LO</td>\n",
       "      <td>NaN</td>\n",
       "      <td>Great Milton, London &amp; South East</td>\n",
       "      <td>NaN</td>\n",
       "      <td>NaN</td>\n",
       "      <td>NaN</td>\n",
       "      <td>GB</td>\n",
       "      <td>44.0</td>\n",
       "      <td>NaN</td>\n",
       "      <td>NaN</td>\n",
       "      <td>NaN</td>\n",
       "      <td>44.0</td>\n",
       "      <td>NaN</td>\n",
       "      <td>NaN</td>\n",
       "      <td>NaN</td>\n",
       "      <td>1</td>\n",
       "    </tr>\n",
       "    <tr>\n",
       "      <th>3</th>\n",
       "      <td>1000307</td>\n",
       "      <td>0BGT26-E</td>\n",
       "      <td>NaN</td>\n",
       "      <td>NaN</td>\n",
       "      <td>NaN</td>\n",
       "      <td>NaN</td>\n",
       "      <td>NaN</td>\n",
       "      <td>NaN</td>\n",
       "      <td>NaN</td>\n",
       "      <td>AU</td>\n",
       "      <td>61.0</td>\n",
       "      <td>NaN</td>\n",
       "      <td>NaN</td>\n",
       "      <td>NaN</td>\n",
       "      <td>61.0</td>\n",
       "      <td>NaN</td>\n",
       "      <td>NaN</td>\n",
       "      <td>NaN</td>\n",
       "      <td>1</td>\n",
       "    </tr>\n",
       "    <tr>\n",
       "      <th>4</th>\n",
       "      <td>1000329</td>\n",
       "      <td>0BGT51-E</td>\n",
       "      <td>Taoyuan</td>\n",
       "      <td>NaN</td>\n",
       "      <td>NaN</td>\n",
       "      <td>Taoyuan</td>\n",
       "      <td>528 Fuhsing 3rd Road</td>\n",
       "      <td>Kueishan Township</td>\n",
       "      <td>NaN</td>\n",
       "      <td>TW</td>\n",
       "      <td>886.0</td>\n",
       "      <td>NaN</td>\n",
       "      <td>NaN</td>\n",
       "      <td>NaN</td>\n",
       "      <td>886.0</td>\n",
       "      <td>NaN</td>\n",
       "      <td>NaN</td>\n",
       "      <td>NaN</td>\n",
       "      <td>1</td>\n",
       "    </tr>\n",
       "  </tbody>\n",
       "</table>\n",
       "</div>"
      ],
      "text/plain": [
       "   address_id b_entity_id location_city state_province location_postal_code  \\\n",
       "0     1000007    0BGRNX-E        Arnhem             GE                 6827   \n",
       "1     1000203    093RN5-E           NaN            NaN                  NaN   \n",
       "2      100029    05PH68-E  Great Milton             LO                  NaN   \n",
       "3     1000307    0BGT26-E           NaN            NaN                  NaN   \n",
       "4     1000329    0BGT51-E       Taoyuan            NaN                  NaN   \n",
       "\n",
       "                      city_state_zip      location_street1   location_street2  \\\n",
       "0            Arnhem, Gelderland 6827       P. Calandweg 54                NaN   \n",
       "1                                NaN                   NaN                NaN   \n",
       "2  Great Milton, London & South East                   NaN                NaN   \n",
       "3                                NaN                   NaN                NaN   \n",
       "4                            Taoyuan  528 Fuhsing 3rd Road  Kueishan Township   \n",
       "\n",
       "  location_street3 iso_country  tele_country tele_area       tele  \\\n",
       "0              NaN          NL          31.0        26  361.16.11   \n",
       "1              NaN          SE          46.0       NaN        NaN   \n",
       "2              NaN          GB          44.0       NaN        NaN   \n",
       "3              NaN          AU          61.0       NaN        NaN   \n",
       "4              NaN          TW         886.0       NaN        NaN   \n",
       "\n",
       "         tele_full  fax_country fax_area        fax         fax_full  hq  \n",
       "0  31.26.361.16.11         31.0       26  362.18.91  31.26.362.18.91   1  \n",
       "1              NaN         46.0      NaN        NaN              NaN   1  \n",
       "2              NaN         44.0      NaN        NaN              NaN   1  \n",
       "3              NaN         61.0      NaN        NaN              NaN   1  \n",
       "4              NaN        886.0      NaN        NaN              NaN   1  "
      ]
     },
     "execution_count": 15,
     "metadata": {},
     "output_type": "execute_result"
    }
   ],
   "source": [
    "b_address_csv.head()"
   ]
  },
  {
   "cell_type": "code",
   "execution_count": 16,
   "metadata": {},
   "outputs": [
    {
     "data": {
      "text/plain": [
       "(84882, 19)"
      ]
     },
     "execution_count": 16,
     "metadata": {},
     "output_type": "execute_result"
    }
   ],
   "source": [
    "b_address_csv.shape"
   ]
  },
  {
   "cell_type": "code",
   "execution_count": 17,
   "metadata": {},
   "outputs": [
    {
     "data": {
      "text/plain": [
       "Index(['address_id', 'b_entity_id', 'location_city', 'state_province',\n",
       "       'location_postal_code', 'city_state_zip', 'location_street1',\n",
       "       'location_street2', 'location_street3', 'iso_country', 'tele_country',\n",
       "       'tele_area', 'tele', 'tele_full', 'fax_country', 'fax_area', 'fax',\n",
       "       'fax_full', 'hq'],\n",
       "      dtype='object')"
      ]
     },
     "execution_count": 17,
     "metadata": {},
     "output_type": "execute_result"
    }
   ],
   "source": [
    "b_address_csv.columns"
   ]
  },
  {
   "cell_type": "code",
   "execution_count": 18,
   "metadata": {},
   "outputs": [
    {
     "data": {
      "text/plain": [
       "488537"
      ]
     },
     "execution_count": 18,
     "metadata": {},
     "output_type": "execute_result"
    }
   ],
   "source": [
    "b_address_csv.isna().sum().sum()  # 488,537"
   ]
  },
  {
   "cell_type": "markdown",
   "metadata": {},
   "source": [
    "## b__company.csv"
   ]
  },
  {
   "cell_type": "code",
   "execution_count": 19,
   "metadata": {},
   "outputs": [
    {
     "data": {
      "text/html": [
       "<div>\n",
       "<style scoped>\n",
       "    .dataframe tbody tr th:only-of-type {\n",
       "        vertical-align: middle;\n",
       "    }\n",
       "\n",
       "    .dataframe tbody tr th {\n",
       "        vertical-align: top;\n",
       "    }\n",
       "\n",
       "    .dataframe thead th {\n",
       "        text-align: right;\n",
       "    }\n",
       "</style>\n",
       "<table border=\"1\" class=\"dataframe\">\n",
       "  <thead>\n",
       "    <tr style=\"text-align: right;\">\n",
       "      <th></th>\n",
       "      <th>b_entity_id</th>\n",
       "      <th>entity_name</th>\n",
       "      <th>entity_proper_name</th>\n",
       "      <th>primary_sic_code</th>\n",
       "      <th>industry_code</th>\n",
       "      <th>sector_code</th>\n",
       "      <th>iso_country</th>\n",
       "      <th>metro_area</th>\n",
       "      <th>state_province</th>\n",
       "      <th>zip_postal_code</th>\n",
       "      <th>web_site</th>\n",
       "      <th>entity_type</th>\n",
       "      <th>entity_sub_type</th>\n",
       "      <th>year_founded</th>\n",
       "      <th>iso_country_incorp</th>\n",
       "      <th>iso_country_cor</th>\n",
       "      <th>nace_code</th>\n",
       "    </tr>\n",
       "  </thead>\n",
       "  <tbody>\n",
       "    <tr>\n",
       "      <th>0</th>\n",
       "      <td>000BFG-E</td>\n",
       "      <td>LOTSOFF CORP</td>\n",
       "      <td>LOT$OFF Corp.</td>\n",
       "      <td>5331.0</td>\n",
       "      <td>3520.0</td>\n",
       "      <td>3500.0</td>\n",
       "      <td>US</td>\n",
       "      <td>San Antonio/TX Metro</td>\n",
       "      <td>TX</td>\n",
       "      <td>78209-4859</td>\n",
       "      <td>NaN</td>\n",
       "      <td>PVT</td>\n",
       "      <td>CP</td>\n",
       "      <td>1975.0</td>\n",
       "      <td>US</td>\n",
       "      <td>US</td>\n",
       "      <td>47.19</td>\n",
       "    </tr>\n",
       "    <tr>\n",
       "      <th>1</th>\n",
       "      <td>000P08-E</td>\n",
       "      <td>LASERSCOPE INC</td>\n",
       "      <td>Laserscope, Inc.</td>\n",
       "      <td>3845.0</td>\n",
       "      <td>2325.0</td>\n",
       "      <td>2300.0</td>\n",
       "      <td>US</td>\n",
       "      <td>San Francisco/CA Metro</td>\n",
       "      <td>CA</td>\n",
       "      <td>95134-2011</td>\n",
       "      <td>http://www.laserscope.com</td>\n",
       "      <td>SUB</td>\n",
       "      <td>CP</td>\n",
       "      <td>1982.0</td>\n",
       "      <td>US</td>\n",
       "      <td>IE</td>\n",
       "      <td>26.60</td>\n",
       "    </tr>\n",
       "    <tr>\n",
       "      <th>2</th>\n",
       "      <td>000JF6-E</td>\n",
       "      <td>LONGWEN GROUP CORP</td>\n",
       "      <td>Longwen Group Corp.</td>\n",
       "      <td>6799.0</td>\n",
       "      <td>3320.0</td>\n",
       "      <td>3300.0</td>\n",
       "      <td>US</td>\n",
       "      <td>Phoenix/AZ Metro</td>\n",
       "      <td>AZ</td>\n",
       "      <td>85258</td>\n",
       "      <td>NaN</td>\n",
       "      <td>PUB</td>\n",
       "      <td>CP</td>\n",
       "      <td>1980.0</td>\n",
       "      <td>US</td>\n",
       "      <td>US</td>\n",
       "      <td>64.99</td>\n",
       "    </tr>\n",
       "    <tr>\n",
       "      <th>3</th>\n",
       "      <td>000L15-E</td>\n",
       "      <td>LISI SA</td>\n",
       "      <td>LISI SA</td>\n",
       "      <td>3728.0</td>\n",
       "      <td>1330.0</td>\n",
       "      <td>1300.0</td>\n",
       "      <td>FR</td>\n",
       "      <td>Lyon/France Metro</td>\n",
       "      <td>FC</td>\n",
       "      <td>90000</td>\n",
       "      <td>http://www.lisi-group.com</td>\n",
       "      <td>PUB</td>\n",
       "      <td>CP</td>\n",
       "      <td>1968.0</td>\n",
       "      <td>FR</td>\n",
       "      <td>FR</td>\n",
       "      <td>30.30</td>\n",
       "    </tr>\n",
       "    <tr>\n",
       "      <th>4</th>\n",
       "      <td>000NY7-E</td>\n",
       "      <td>LA GEAR INC</td>\n",
       "      <td>L.A. Gear, Inc.</td>\n",
       "      <td>5139.0</td>\n",
       "      <td>3255.0</td>\n",
       "      <td>3250.0</td>\n",
       "      <td>US</td>\n",
       "      <td>Los Angeles/CA Metro</td>\n",
       "      <td>CA</td>\n",
       "      <td>90049</td>\n",
       "      <td>http://www.lagear.com</td>\n",
       "      <td>SUB</td>\n",
       "      <td>CP</td>\n",
       "      <td>1979.0</td>\n",
       "      <td>US</td>\n",
       "      <td>US</td>\n",
       "      <td>46.42</td>\n",
       "    </tr>\n",
       "  </tbody>\n",
       "</table>\n",
       "</div>"
      ],
      "text/plain": [
       "  b_entity_id         entity_name   entity_proper_name  primary_sic_code  \\\n",
       "0    000BFG-E        LOTSOFF CORP        LOT$OFF Corp.            5331.0   \n",
       "1    000P08-E      LASERSCOPE INC     Laserscope, Inc.            3845.0   \n",
       "2    000JF6-E  LONGWEN GROUP CORP  Longwen Group Corp.            6799.0   \n",
       "3    000L15-E             LISI SA              LISI SA            3728.0   \n",
       "4    000NY7-E         LA GEAR INC      L.A. Gear, Inc.            5139.0   \n",
       "\n",
       "   industry_code  sector_code iso_country              metro_area  \\\n",
       "0         3520.0       3500.0          US    San Antonio/TX Metro   \n",
       "1         2325.0       2300.0          US  San Francisco/CA Metro   \n",
       "2         3320.0       3300.0          US        Phoenix/AZ Metro   \n",
       "3         1330.0       1300.0          FR       Lyon/France Metro   \n",
       "4         3255.0       3250.0          US    Los Angeles/CA Metro   \n",
       "\n",
       "  state_province zip_postal_code                   web_site entity_type  \\\n",
       "0             TX      78209-4859                        NaN         PVT   \n",
       "1             CA      95134-2011  http://www.laserscope.com         SUB   \n",
       "2             AZ           85258                        NaN         PUB   \n",
       "3             FC           90000  http://www.lisi-group.com         PUB   \n",
       "4             CA           90049      http://www.lagear.com         SUB   \n",
       "\n",
       "  entity_sub_type  year_founded iso_country_incorp iso_country_cor  nace_code  \n",
       "0              CP        1975.0                 US              US      47.19  \n",
       "1              CP        1982.0                 US              IE      26.60  \n",
       "2              CP        1980.0                 US              US      64.99  \n",
       "3              CP        1968.0                 FR              FR      30.30  \n",
       "4              CP        1979.0                 US              US      46.42  "
      ]
     },
     "execution_count": 19,
     "metadata": {},
     "output_type": "execute_result"
    }
   ],
   "source": [
    "b_company_csv.head()"
   ]
  },
  {
   "cell_type": "code",
   "execution_count": 20,
   "metadata": {},
   "outputs": [
    {
     "data": {
      "text/plain": [
       "(196498, 17)"
      ]
     },
     "execution_count": 20,
     "metadata": {},
     "output_type": "execute_result"
    }
   ],
   "source": [
    "b_company_csv.shape"
   ]
  },
  {
   "cell_type": "code",
   "execution_count": 21,
   "metadata": {},
   "outputs": [
    {
     "data": {
      "text/plain": [
       "Index(['b_entity_id', 'entity_name', 'entity_proper_name', 'primary_sic_code',\n",
       "       'industry_code', 'sector_code', 'iso_country', 'metro_area',\n",
       "       'state_province', 'zip_postal_code', 'web_site', 'entity_type',\n",
       "       'entity_sub_type', 'year_founded', 'iso_country_incorp',\n",
       "       'iso_country_cor', 'nace_code'],\n",
       "      dtype='object')"
      ]
     },
     "execution_count": 21,
     "metadata": {},
     "output_type": "execute_result"
    }
   ],
   "source": [
    "b_company_csv.columns"
   ]
  },
  {
   "cell_type": "code",
   "execution_count": 22,
   "metadata": {},
   "outputs": [
    {
     "data": {
      "text/plain": [
       "1373134"
      ]
     },
     "execution_count": 22,
     "metadata": {},
     "output_type": "execute_result"
    }
   ],
   "source": [
    "b_company_csv.isna().sum().sum()  # 1,373,134"
   ]
  },
  {
   "cell_type": "markdown",
   "metadata": {},
   "source": [
    "## Graphing Missing Values"
   ]
  },
  {
   "cell_type": "code",
   "execution_count": 23,
   "metadata": {},
   "outputs": [
    {
     "data": {
      "image/png": "[encoded data removed]",
      "text/plain": [
       "<Figure size 1080x360 with 1 Axes>"
      ]
     },
     "metadata": {
      "needs_background": "light"
     },
     "output_type": "display_data"
    }
   ],
   "source": [
    "# Creating a bar plot\n",
    "\n",
    "fig, ax = plt.subplots(figsize=(15, 5))\n",
    "\n",
    "x = b_company_csv.isna().sum().index  # Retrieving column name with missing values\n",
    "y = b_company_csv.isna().sum()  # Number of values missing\n",
    "ax.bar(x=x, height=y)\n",
    "ax.set_xticklabels(x, rotation = 45)\n",
    "plt.tight_layout();"
   ]
  },
  {
   "cell_type": "markdown",
   "metadata": {},
   "source": [
    "## b__hierarchy.csv"
   ]
  },
  {
   "cell_type": "code",
   "execution_count": 24,
   "metadata": {},
   "outputs": [
    {
     "data": {
      "text/html": [
       "<div>\n",
       "<style scoped>\n",
       "    .dataframe tbody tr th:only-of-type {\n",
       "        vertical-align: middle;\n",
       "    }\n",
       "\n",
       "    .dataframe tbody tr th {\n",
       "        vertical-align: top;\n",
       "    }\n",
       "\n",
       "    .dataframe thead th {\n",
       "        text-align: right;\n",
       "    }\n",
       "</style>\n",
       "<table border=\"1\" class=\"dataframe\">\n",
       "  <thead>\n",
       "    <tr style=\"text-align: right;\">\n",
       "      <th></th>\n",
       "      <th>b_entity_id</th>\n",
       "      <th>b_parent_entity_id</th>\n",
       "      <th>b_ultimate_parent_entity_id</th>\n",
       "    </tr>\n",
       "  </thead>\n",
       "  <tbody>\n",
       "    <tr>\n",
       "      <th>0</th>\n",
       "      <td>000BFG-E</td>\n",
       "      <td>NaN</td>\n",
       "      <td>000BFG-E</td>\n",
       "    </tr>\n",
       "    <tr>\n",
       "      <th>1</th>\n",
       "      <td>000P08-E</td>\n",
       "      <td>002Y7X-E</td>\n",
       "      <td>00FV7G-E</td>\n",
       "    </tr>\n",
       "    <tr>\n",
       "      <th>2</th>\n",
       "      <td>000JP9-E</td>\n",
       "      <td>NaN</td>\n",
       "      <td>000JP9-E</td>\n",
       "    </tr>\n",
       "    <tr>\n",
       "      <th>3</th>\n",
       "      <td>000P26-E</td>\n",
       "      <td>NaN</td>\n",
       "      <td>000P26-E</td>\n",
       "    </tr>\n",
       "    <tr>\n",
       "      <th>4</th>\n",
       "      <td>000L15-E</td>\n",
       "      <td>05HTCY-E</td>\n",
       "      <td>05HTCY-E</td>\n",
       "    </tr>\n",
       "  </tbody>\n",
       "</table>\n",
       "</div>"
      ],
      "text/plain": [
       "  b_entity_id b_parent_entity_id b_ultimate_parent_entity_id\n",
       "0    000BFG-E                NaN                    000BFG-E\n",
       "1    000P08-E           002Y7X-E                    00FV7G-E\n",
       "2    000JP9-E                NaN                    000JP9-E\n",
       "3    000P26-E                NaN                    000P26-E\n",
       "4    000L15-E           05HTCY-E                    05HTCY-E"
      ]
     },
     "execution_count": 24,
     "metadata": {},
     "output_type": "execute_result"
    }
   ],
   "source": [
    "b_hierarchy.head()"
   ]
  },
  {
   "cell_type": "code",
   "execution_count": 25,
   "metadata": {},
   "outputs": [
    {
     "data": {
      "text/plain": [
       "(196498, 3)"
      ]
     },
     "execution_count": 25,
     "metadata": {},
     "output_type": "execute_result"
    }
   ],
   "source": [
    "b_hierarchy.shape"
   ]
  },
  {
   "cell_type": "code",
   "execution_count": 26,
   "metadata": {},
   "outputs": [
    {
     "data": {
      "text/plain": [
       "Index(['b_entity_id', 'b_parent_entity_id', 'b_ultimate_parent_entity_id'], dtype='object')"
      ]
     },
     "execution_count": 26,
     "metadata": {},
     "output_type": "execute_result"
    }
   ],
   "source": [
    "b_hierarchy.columns"
   ]
  },
  {
   "cell_type": "code",
   "execution_count": 27,
   "metadata": {},
   "outputs": [
    {
     "data": {
      "text/plain": [
       "128749"
      ]
     },
     "execution_count": 27,
     "metadata": {},
     "output_type": "execute_result"
    }
   ],
   "source": [
    "b_hierarchy.isna().sum().sum()  # 128,749"
   ]
  },
  {
   "cell_type": "markdown",
   "metadata": {},
   "source": [
    "## Graphing Missing Values"
   ]
  },
  {
   "cell_type": "code",
   "execution_count": 28,
   "metadata": {},
   "outputs": [
    {
     "data": {
      "image/png": "[encoded data removed]",
      "text/plain": [
       "<Figure size 1080x360 with 1 Axes>"
      ]
     },
     "metadata": {
      "needs_background": "light"
     },
     "output_type": "display_data"
    }
   ],
   "source": [
    "# Creating a bar plot\n",
    "\n",
    "fig, ax = plt.subplots(figsize=(15, 5))\n",
    "\n",
    "x = b_hierarchy.isna().sum().index  # Retrieving column name with missing values\n",
    "y = b_hierarchy.isna().sum()  # Number of values missing\n",
    "ax.bar(x=x, height=y)\n",
    "ax.set_xticklabels(x, rotation = 45)\n",
    "plt.tight_layout();"
   ]
  },
  {
   "cell_type": "markdown",
   "metadata": {},
   "source": [
    "## Columns for each dataset\n",
    "\n",
    "- a__company.csv\n",
    "'vendor_id', 'parent_vendor_id', 'top_vendor_id', 'cnt_children',\n",
    "       'orgtype_id', 'geo_id', 'name', 'email', 'phone', 'fax', 'dunsnumber',\n",
    "       'websiteurl', 'address', 'address1', 'address2', 'country', 'zipcode',\n",
    "       'parentdunsnumber', 'score', 'cnt_opp', 'bucket_id', 'load_date',\n",
    "       'lvl'\n",
    "    \n",
    "- a__geo.csv\n",
    "'geo_id', 'zipcode', 'is_primary', 'latitude', 'longitude', 'elevation',\n",
    "       'state', 'state_full_name', 'area_code', 'city', 'city_display',\n",
    "       'county', 'county_fips', 'state_fips', 'timezone', 'daylight_saving',\n",
    "       'region', 'division', 'congress_district', 'congress_land_area',\n",
    "       'country', 'continent', 'country_iso2'\n",
    "       \n",
    "- b__address.csv\n",
    "'address_id', 'b_entity_id', 'location_city', 'state_province',\n",
    "       'location_postal_code', 'city_state_zip', 'location_street1',\n",
    "       'location_street2', 'location_street3', 'iso_country', 'tele_country',\n",
    "       'tele_area', 'tele', 'tele_full', 'fax_country', 'fax_area', 'fax',\n",
    "       'fax_full', 'hq'\n",
    "       \n",
    "- b__company.csv\n",
    "'b_entity_id', 'entity_name', 'entity_proper_name', 'primary_sic_code',\n",
    "       'industry_code', 'sector_code', 'iso_country', 'metro_area',\n",
    "       'state_province', 'zip_postal_code', 'web_site', 'entity_type',\n",
    "       'entity_sub_type', 'year_founded', 'iso_country_incorp',\n",
    "       'iso_country_cor', 'nace_code'\n",
    "       \n",
    "- b__hierarchy.csv\n",
    "'b_entity_id', 'b_parent_entity_id', 'b_ultimate_parent_entity_id'\n",
    "\n",
    "## Similarities\n",
    "\n",
    "- a__company.csv\n",
    "'vendor_id', 'parent_vendor_id', 'top_vendor_id',\n",
    "       'orgtype_id', 'geo_id', 'name', 'email', 'phone', 'fax', 'dunsnumber',\n",
    "       'websiteurl', 'address', 'address1', 'address2', 'country', 'zipcode',\n",
    "       'parentdunsnumber', 'score', 'bucket_id'\n",
    "    \n",
    "- a__geo.csv\n",
    "'geo_id', 'zipcode', 'is_primary', 'latitude', 'longitude', 'elevation',\n",
    "       'state', 'state_full_name', 'area_code', 'city', 'city_display',\n",
    "       'county', 'county_fips', 'state_fips', 'timezone', 'daylight_saving',\n",
    "       'region', 'division', 'congress_district', 'congress_land_area',\n",
    "       'country', 'continent', 'country_iso2'\n",
    "       \n",
    "- b__address.csv\n",
    "'address_id', 'b_entity_id', 'location_city', 'state_province',\n",
    "       'location_postal_code', 'city_state_zip', 'location_street1',\n",
    "       'location_street2', 'location_street3', 'iso_country', 'tele_country',\n",
    "       'tele_area', 'tele', 'tele_full', 'fax_country', 'fax_area', 'fax',\n",
    "       'fax_full'\n",
    "       \n",
    "- b__company.csv\n",
    "'b_entity_id', 'entity_name', 'entity_proper_name', 'primary_sic_code',\n",
    "       'industry_code', 'sector_code', 'iso_country', 'metro_area',\n",
    "       'state_province', 'zip_postal_code', 'web_site', 'entity_type',\n",
    "       'entity_sub_type', 'iso_country_incorp',\n",
    "       'iso_country_cor'\n",
    "       \n",
    "- b__hierarchy.csv\n",
    "'b_entity_id', 'b_parent_entity_id', 'b_ultimate_parent_entity_id'"
   ]
  },
  {
   "cell_type": "markdown",
   "metadata": {},
   "source": [
    "## Cleaning and Combining a__company.csv with a__geo.csv"
   ]
  },
  {
   "cell_type": "code",
   "execution_count": null,
   "metadata": {},
   "outputs": [],
   "source": [
    "# Combining the two datasets using geo_id"
   ]
  }
 ],
 "metadata": {
  "kernelspec": {
   "display_name": "Python 3",
   "language": "python",
   "name": "python3"
  },
  "language_info": {
   "codemirror_mode": {
    "name": "ipython",
    "version": 3
   },
   "file_extension": ".py",
   "mimetype": "text/x-python",
   "name": "python",
   "nbconvert_exporter": "python",
   "pygments_lexer": "ipython3",
   "version": "3.8.1"
  }
 },
 "nbformat": 4,
 "nbformat_minor": 4
}
